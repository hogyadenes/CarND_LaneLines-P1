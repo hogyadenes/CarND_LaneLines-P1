{
 "cells": [
  {
   "cell_type": "code",
   "execution_count": 22,
   "metadata": {
    "collapsed": true
   },
   "outputs": [],
   "source": [
    "#importing some useful packages\n",
    "import math\n",
    "import matplotlib.pyplot as plt\n",
    "import matplotlib.image as mpimg\n",
    "import numpy as np\n",
    "import cv2\n",
    "\n",
    "from moviepy.editor import VideoFileClip\n",
    "from IPython.display import HTML\n",
    "%matplotlib inline\n",
    "\n",
    "#class for averaging both locally (between line pieces) and globally (between images)\n",
    "class line_stats:\n",
    "    def __init__(self, new_weight=1, max_weight=10):\n",
    "        self.x = 0\n",
    "        self.y = 0\n",
    "        self.slope = 0\n",
    "        self.weight = 0\n",
    "        self.new_weight = new_weight\n",
    "        self.max_weight = max_weight\n",
    "\n",
    "    def add(self, x, y, slope):\n",
    "        self.x = (self.weight * self.x + self.new_weight * x) / (self.weight + self.new_weight)\n",
    "        self.y = (self.weight * self.y + self.new_weight * y) / (self.weight + self.new_weight)\n",
    "        self.slope = (self.weight * self.slope + self.new_weight * slope) / (self.weight + self.new_weight)\n",
    "        if self.weight<self.max_weight:\n",
    "          self.weight+=self.new_weight\n",
    "\n",
    "#class for detecting line lanes        \n",
    "class line_detector:    \n",
    "    def __init__(self):\n",
    "        #storing the global statistics as well as the vertices for both lanes\n",
    "        self.lanes = [line_stats() for _ in range(2)]\n",
    "        self.vertices = np.array([])\n",
    "        \n",
    "    def grayscale(self, img):\n",
    "        \"\"\"Applies the Grayscale transform\n",
    "        This will return an image with only one color channel\n",
    "        but NOTE: to see the returned image as grayscale\n",
    "        (assuming your grayscaled image is called 'gray')\n",
    "        you should call plt.imshow(gray, cmap='gray')\"\"\"\n",
    "        return cv2.cvtColor(img, cv2.COLOR_RGB2GRAY)\n",
    "        \n",
    "    def canny(self, img, low_threshold, high_threshold):\n",
    "        \"\"\"Applies the Canny transform\"\"\"\n",
    "        return cv2.Canny(img, low_threshold, high_threshold)\n",
    "\n",
    "    def gaussian_blur(self, img, kernel_size):\n",
    "        \"\"\"Applies a Gaussian Noise kernel\"\"\"\n",
    "        return cv2.GaussianBlur(img, (kernel_size, kernel_size), 0)\n",
    "\n",
    "    def region_of_interest(self, img, vertices):\n",
    "        \"\"\"\n",
    "        Applies an image mask.\n",
    "        \n",
    "        Only keeps the region of the image defined by the polygon\n",
    "        formed from `vertices`. The rest of the image is set to black.\n",
    "        \"\"\"\n",
    "        #defining a blank mask to start with\n",
    "        mask = np.zeros_like(img)   \n",
    "    \n",
    "        #defining a 3 channel or 1 channel color to fill the mask with depending on the input image\n",
    "        if len(img.shape) > 2:\n",
    "            channel_count = img.shape[2]  # i.e. 3 or 4 depending on your image\n",
    "            ignore_mask_color = (255,) * channel_count\n",
    "        else:\n",
    "            ignore_mask_color = 255\n",
    "        \n",
    "        #filling pixels inside the polygon defined by \"vertices\" with the fill color    \n",
    "        cv2.fillPoly(mask, vertices, ignore_mask_color)\n",
    "    \n",
    "        #returning the image only where mask pixels are nonzero\n",
    "        masked_image = cv2.bitwise_and(img, mask)\n",
    "        return masked_image\n",
    "\n",
    "\n",
    "    def draw_lines(self, img, lines, y_limit, color=[255, 0, 0], thickness=10):\n",
    "        act_lanes = [line_stats(1, 100) for _ in range(2)] #for averaging local pieces\n",
    "        y_size = img.shape[1]\n",
    "            \n",
    "        for line in lines:\n",
    "          for x1,y1,x2,y2 in line:\n",
    "            slope = (x2-x1)/(y2-y1)\n",
    "            if abs(slope)>2: #discarding line pieces with >=45 degrees of slope (and the inf values in case div by z)                \n",
    "                continue\n",
    "            if slope<0:      #updating local lane stats               \n",
    "                act_lanes[0].add((x1+x2)/2, (y1+y2)/2, slope)\n",
    "            else: \n",
    "                act_lanes[1].add((x1+x2)/2, (y1+y2)/2, slope)\n",
    "                \n",
    "        for i in range(2):\n",
    "            pic_lane = act_lanes[i]\n",
    "            global_lane = self.lanes[i]            \n",
    "            if pic_lane.weight>0:  #updating global lane stats\n",
    "               global_lane.add(pic_lane.x, pic_lane.y, pic_lane.slope)\n",
    "            x1 = int(global_lane.x+(y_size-global_lane.y)*global_lane.slope)\n",
    "            x2 = int(global_lane.x+(y_limit-global_lane.y)*global_lane.slope)\n",
    "            cv2.line(img, (x1, y_size), (x2, y_limit), color, thickness)       \n",
    "\n",
    "    def hough_lines(self, img, rho, theta, threshold, min_line_len, max_line_gap, y_limit):\n",
    "        \"\"\"\n",
    "        `img` should be the output of a Canny transform.\n",
    "            \n",
    "        Returns an image with hough lines drawn.\n",
    "        \"\"\"\n",
    "        lines = cv2.HoughLinesP(img, rho, theta, threshold, np.array([]), minLineLength=min_line_len, maxLineGap=max_line_gap)\n",
    "        line_img = np.zeros((img.shape[0], img.shape[1], 3), dtype=np.uint8)\n",
    "        self.draw_lines(line_img, lines, y_limit)\n",
    "        return line_img\n",
    "\n",
    "    def weighted_img(self, img, initial_img, α=0.8, β=1., λ=0.):\n",
    "        \"\"\"\n",
    "        `img` is the output of the hough_lines(), An image with lines drawn on it.\n",
    "        Should be a blank image (all black) with lines drawn on it.\n",
    "    \n",
    "        `initial_img` should be the image before any processing.\n",
    "    \n",
    "        The result image is computed as follows:\n",
    "    \n",
    "        initial_img * α + img * β + λ\n",
    "        NOTE: initial_img and img must be the same shape!\n",
    "        \"\"\"\n",
    "        return cv2.addWeighted(initial_img, α, img, β, λ)\n",
    "    \n",
    "    def set_roi(self, p1, p2, p3, p4):\n",
    "        self.vertices = np.array([[p1, p2, p3, p4]], dtype=np.int32)\n",
    "    \n",
    "    def process_image(self, image):\n",
    "        # NOTE: The output you return should be a color image (3 channel) for processing video below\n",
    "        # TODO: put your pipeline here,\n",
    "        # you should return the final output (image where lines are drawn on lanes)\n",
    "        img_gray  = self.grayscale(image)\n",
    "        img_blur  = self.gaussian_blur(img_gray, 5)\n",
    "        img_canny = self.canny(img_blur, 10, 250)\n",
    "        \n",
    "        #this does not really belong here but this way it works with both video sizes without updating anything\n",
    "        if not self.vertices.any():\n",
    "          if image.shape[0]==540:\n",
    "            self.set_roi((0, 540), (450, 320), (520, 320), (900, 540))\n",
    "          else: \n",
    "            self.set_roi((200, 660), (600, 450), (780, 450), (1100, 660))\n",
    "        \n",
    "        img_roi = self.region_of_interest(img_canny, self.vertices)\n",
    "        img_hough = self.hough_lines(img_roi, 2, np.pi/180, 25, 30, 30, self.vertices[0][1][1])\n",
    "        result = self.weighted_img(img_hough, image)        \n",
    "        \n",
    "        return result\n",
    "\n",
    "def detect_lane_lines(input_clip, output_clip):   \n",
    "    test_clip = VideoFileClip(input_clip)\n",
    "    detector = line_detector()\n",
    "    new_clip = test_clip.fl_image( detector.process_image )\n",
    "    %time new_clip.write_videofile(output_clip, audio=False)"
   ]
  },
  {
   "cell_type": "code",
   "execution_count": 23,
   "metadata": {},
   "outputs": [
    {
     "name": "stdout",
     "output_type": "stream",
     "text": [
      "[MoviePy] >>>> Building video test_output.mp4\n",
      "[MoviePy] Writing video test_output.mp4\n"
     ]
    },
    {
     "name": "stderr",
     "output_type": "stream",
     "text": [
      "100%|█████████▉| 681/682 [00:17<00:00, 39.80it/s]\n"
     ]
    },
    {
     "name": "stdout",
     "output_type": "stream",
     "text": [
      "[MoviePy] Done.\n",
      "[MoviePy] >>>> Video ready: test_output.mp4 \n",
      "\n",
      "CPU times: user 5.65 s, sys: 490 ms, total: 6.14 s\n",
      "Wall time: 17.9 s\n"
     ]
    }
   ],
   "source": [
    "#input = \"test_videos/solidWhiteRight.mp4\"\n",
    "input = \"test_videos/solidYellowLeft.mp4\"\n",
    "#input = \"test_videos/challenge.mp4\"\n",
    "output = \"test_output.mp4\"\n",
    "\n",
    "detect_lane_lines(input, output)"
   ]
  },
  {
   "cell_type": "code",
   "execution_count": 24,
   "metadata": {},
   "outputs": [
    {
     "data": {
      "text/html": [
       "\n",
       "<video width=\"640\" height=\"300\" controls>\n",
       "  <source src=test_output.mp4 type=\"video/mp4\">\n",
       "</video>\n"
      ],
      "text/plain": [
       "<IPython.core.display.HTML object>"
      ]
     },
     "execution_count": 24,
     "metadata": {},
     "output_type": "execute_result"
    }
   ],
   "source": [
    "HTML(\"\"\"\n",
    "<video width=\"640\" height=\"300\" controls>\n",
    "  <source src={0} type=\"video/mp4\">\n",
    "</video>\n",
    "\"\"\".format(output))"
   ]
  },
  {
   "cell_type": "markdown",
   "metadata": {},
   "source": [
    "#Test with images\n",
    "import os\n",
    "os.listdir(\"test_images/\")\n",
    "\n",
    "#reading in an image\n",
    "#image = mpimg.imread('test_images/solidWhiteRight.jpg')\n",
    "#image = mpimg.imread('test_images/solidYellowLeft.jpg')\n",
    "#image = mpimg.imread('test_images/solidYellowCurve.jpg')\n",
    "image = mpimg.imread('test_images/solidYellowCurve2.jpg')\n",
    "#image = mpimg.imread('test_images/bscap0001.jpg')\n",
    "\n",
    "#printing out some stats and plotting\n",
    "print('This image is:', type(image), 'with dimensions:', image.shape)\n",
    "plt.imshow(image)\n"
   ]
  },
  {
   "cell_type": "markdown",
   "metadata": {},
   "source": [
    "detector = line_detector()\n",
    "result = detector.process_image(image)\n",
    "\n",
    "plt.imshow(result)"
   ]
  },
  {
   "cell_type": "code",
   "execution_count": null,
   "metadata": {
    "collapsed": true
   },
   "outputs": [],
   "source": []
  }
 ],
 "metadata": {
  "kernelspec": {
   "display_name": "Python 3",
   "language": "python",
   "name": "python3"
  },
  "language_info": {
   "codemirror_mode": {
    "name": "ipython",
    "version": 3
   },
   "file_extension": ".py",
   "mimetype": "text/x-python",
   "name": "python",
   "nbconvert_exporter": "python",
   "pygments_lexer": "ipython3",
   "version": "3.5.2"
  },
  "widgets": {
   "state": {},
   "version": "1.1.2"
  }
 },
 "nbformat": 4,
 "nbformat_minor": 2
}
